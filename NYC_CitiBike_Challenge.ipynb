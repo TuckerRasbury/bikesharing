{
 "cells": [
  {
   "cell_type": "code",
   "execution_count": 106,
   "metadata": {},
   "outputs": [],
   "source": [
    "# Adding dependencies\n",
    "import pandas as pd"
   ]
  },
  {
   "cell_type": "code",
   "execution_count": null,
   "metadata": {},
   "outputs": [],
   "source": [
    "# 1. Create a DataFrame for the 201908-citibike-tripdata data. \n",
    "citibike_data_to_load = \"201908-citibike-tripdata.csv\"\n",
    "citibike_tripdata_df = pd.read_csv(citibike_data_to_load)\n",
    "citibike_tripdata_df.sample(n=5)"
   ]
  },
  {
   "cell_type": "code",
   "execution_count": null,
   "metadata": {},
   "outputs": [],
   "source": [
    "# 2. Check the datatypes of your columns. \n",
    "citibike_tripdata_df.dtypes"
   ]
  },
  {
   "cell_type": "code",
   "execution_count": null,
   "metadata": {},
   "outputs": [],
   "source": [
    "# 3. Convert the 'tripduration' column to datetime datatype.\n",
    "# Decision Pt. a) Creating new column vs. b) overwriting column; chose a) \n",
    "# key to getting this to work > Use \"\", not '', for the unit component. Citation: https://pandas.pydata.org/pandas-docs/stable/reference/api/pandas.to_datetime.html\n",
    "\n",
    "citibike_tripdata_df[\"tripduration_conversion\"] = pd.to_datetime(citibike_tripdata_df[\"tripduration\"], unit=\"m\")"
   ]
  },
  {
   "cell_type": "code",
   "execution_count": null,
   "metadata": {},
   "outputs": [],
   "source": [
    "# 4. Check the datatypes of your columns. \n",
    "citibike_tripdata_df.dtypes"
   ]
  },
  {
   "cell_type": "code",
   "execution_count": null,
   "metadata": {},
   "outputs": [],
   "source": [
    "# Double check the new column's structure\n",
    "citibike_tripdata_df.head(5)"
   ]
  },
  {
   "cell_type": "code",
   "execution_count": null,
   "metadata": {},
   "outputs": [],
   "source": [
    "# 5. Export the Dataframe as a new CSV file without the index.\n",
    "# resource 1) full path; link - https://datatofish.com/export-dataframe-to-csv/\n",
    "# resource 2) miscellaneous; link: https://www.codegrepper.com/code-examples/rust/pandas+to+csv+without+index\n",
    "# Code MODEL: df.to_csv(r'/directory/path/file_name.csv', index = False, header = True)\n",
    "# Path MODEL: r‘C:\\Users\\Ron\\Desktop\\export_dataframe.csv‘\n",
    "\n",
    "citibike_tripdata_df.to_csv(r'C:\\Users\\itr\\Desktop\\Class Folder\\bikesharing\\citibike_tripdata_df.csv', index=False, header=True)"
   ]
  },
  {
   "cell_type": "code",
   "execution_count": null,
   "metadata": {},
   "outputs": [],
   "source": []
  }
 ],
 "metadata": {
  "kernelspec": {
   "display_name": "PythonData",
   "language": "python",
   "name": "pythondata"
  },
  "language_info": {
   "codemirror_mode": {
    "name": "ipython",
    "version": 3
   },
   "file_extension": ".py",
   "mimetype": "text/x-python",
   "name": "python",
   "nbconvert_exporter": "python",
   "pygments_lexer": "ipython3",
   "version": "3.8.3"
  }
 },
 "nbformat": 4,
 "nbformat_minor": 4
}
